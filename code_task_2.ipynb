{
  "nbformat": 4,
  "nbformat_minor": 0,
  "metadata": {
    "colab": {
      "provenance": []
    },
    "kernelspec": {
      "name": "python3",
      "display_name": "Python 3"
    },
    "language_info": {
      "name": "python"
    }
  },
  "cells": [
    {
      "cell_type": "code",
      "execution_count": 1,
      "metadata": {
        "id": "Jd9hj-5VDrBf"
      },
      "outputs": [],
      "source": [
        "import cv2\n",
        "import numpy as np\n",
        "\n",
        "# Step 1: Load the input video\n",
        "input_video_path = \"task_2_video.mp4\"\n",
        "\n",
        "cap = cv2.VideoCapture(input_video_path)\n",
        "fps = cap.get(cv2.CAP_PROP_FPS)\n",
        "frame_width = int(cap.get(cv2.CAP_PROP_FRAME_WIDTH))\n",
        "frame_height = int(cap.get(cv2.CAP_PROP_FRAME_HEIGHT))\n",
        "total_frames = int(cap.get(cv2.CAP_PROP_FRAME_COUNT))\n",
        "\n",
        "# Step 2: Define the number of frames to process and set the maximum number of frames\n",
        "frames_to_process = 15 * fps  # Specify the desired number of frames to process\n",
        "max_frames = min(frames_to_process, total_frames)\n",
        "\n",
        "# Step 3: Create an output video writer\n",
        "output_video_path = \"output_video.mp4\"\n",
        "fourcc = cv2.VideoWriter_fourcc(*\"mp4v\")\n",
        "out = cv2.VideoWriter(output_video_path, fourcc, fps, (frame_width, frame_height))\n",
        "\n",
        "frame_count = 0\n",
        "\n",
        "while frame_count < max_frames:\n",
        "    # Step 4: Read each frame from the input video\n",
        "    ret, frame = cap.read()\n",
        "    if not ret:\n",
        "        break\n",
        "\n",
        "    # Step 5: Convert the frame to the HSV color space\n",
        "    hsv = cv2.cvtColor(frame, cv2.COLOR_BGR2HSV)\n",
        "\n",
        "    # Step 6: Define the lower and upper HSV range for the green color\n",
        "    lower_green = np.array([40, 50, 50])\n",
        "    upper_green = np.array([80, 255, 255])\n",
        "\n",
        "    # Step 7: Apply the HSV color filter to detect green polka dots\n",
        "    mask = cv2.inRange(hsv, lower_green, upper_green)\n",
        "\n",
        "    # Step 8: Find contours of the green polka dots\n",
        "    contours, _ = cv2.findContours(mask, cv2.RETR_EXTERNAL, cv2.CHAIN_APPROX_SIMPLE)\n",
        "\n",
        "    for contour in contours:\n",
        "        # Step 9: Compute the centroid of each contour\n",
        "        M = cv2.moments(contour)\n",
        "        if M[\"m00\"] > 0:\n",
        "            cX = int(M[\"m10\"] / M[\"m00\"])\n",
        "            cY = int(M[\"m01\"] / M[\"m00\"])\n",
        "\n",
        "            # Step 10: Draw a red dot at the centroid of the green polka dot\n",
        "            cv2.circle(frame, (cX, cY), radius=12, color=(0, 0, 255), thickness=-1)\n",
        "\n",
        "    # Step 11: Write the frame with red dots to the output video\n",
        "    out.write(frame)\n",
        "\n",
        "    frame_count += 1\n",
        "\n",
        "# Step 12: Release the resources\n",
        "cap.release()\n",
        "out.release()\n"
      ]
    },
    {
      "cell_type": "code",
      "source": [],
      "metadata": {
        "id": "Qe3OfjKOD_aN"
      },
      "execution_count": null,
      "outputs": []
    }
  ]
}